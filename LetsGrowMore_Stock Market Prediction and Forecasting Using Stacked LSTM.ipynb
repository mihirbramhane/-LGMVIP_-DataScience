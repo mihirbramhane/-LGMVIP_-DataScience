{
 "cells": [
  {
   "cell_type": "markdown",
   "metadata": {},
   "source": [
    "\n",
    "# Mihir Bramhane\n",
    "## Stock Market Prediction and Forecasting Using Stacked LSTM\n",
    "- Using Keras and Tensorflow\n"
   ]
  },
  {
   "cell_type": "code",
   "execution_count": 1,
   "metadata": {},
   "outputs": [],
   "source": [
    "#Import necessary Libraries\n",
    "import pandas as pd\n",
    "import numpy as np\n",
    "import math\n",
    "import matplotlib.pyplot as plt\n",
    "from sklearn.preprocessing import MinMaxScaler\n",
    "from sklearn.metrics import mean_squared_error\n",
    "import tensorflow as tf\n",
    "from tensorflow.python.keras.models import Sequential\n",
    "from tensorflow.python.keras.layers import Dense\n",
    "from tensorflow.python.keras.layers import LSTM\n",
    "%matplotlib inline"
   ]
  },
  {
   "cell_type": "code",
   "execution_count": 3,
   "metadata": {},
   "outputs": [
    {
     "data": {
      "text/html": [
       "<div>\n",
       "<style scoped>\n",
       "    .dataframe tbody tr th:only-of-type {\n",
       "        vertical-align: middle;\n",
       "    }\n",
       "\n",
       "    .dataframe tbody tr th {\n",
       "        vertical-align: top;\n",
       "    }\n",
       "\n",
       "    .dataframe thead th {\n",
       "        text-align: right;\n",
       "    }\n",
       "</style>\n",
       "<table border=\"1\" class=\"dataframe\">\n",
       "  <thead>\n",
       "    <tr style=\"text-align: right;\">\n",
       "      <th></th>\n",
       "      <th>Date</th>\n",
       "      <th>Open</th>\n",
       "      <th>High</th>\n",
       "      <th>Low</th>\n",
       "      <th>Close</th>\n",
       "      <th>Adj Close</th>\n",
       "      <th>Volume</th>\n",
       "    </tr>\n",
       "  </thead>\n",
       "  <tbody>\n",
       "    <tr>\n",
       "      <th>0</th>\n",
       "      <td>2015-11-18</td>\n",
       "      <td>463.799988</td>\n",
       "      <td>465.649994</td>\n",
       "      <td>454.975006</td>\n",
       "      <td>456.000000</td>\n",
       "      <td>436.671021</td>\n",
       "      <td>5142766.0</td>\n",
       "    </tr>\n",
       "    <tr>\n",
       "      <th>1</th>\n",
       "      <td>2015-11-19</td>\n",
       "      <td>459.450012</td>\n",
       "      <td>469.350006</td>\n",
       "      <td>458.625000</td>\n",
       "      <td>467.375000</td>\n",
       "      <td>447.563873</td>\n",
       "      <td>5569752.0</td>\n",
       "    </tr>\n",
       "    <tr>\n",
       "      <th>2</th>\n",
       "      <td>2015-11-20</td>\n",
       "      <td>467.000000</td>\n",
       "      <td>476.399994</td>\n",
       "      <td>462.774994</td>\n",
       "      <td>473.424988</td>\n",
       "      <td>453.357422</td>\n",
       "      <td>5167930.0</td>\n",
       "    </tr>\n",
       "    <tr>\n",
       "      <th>3</th>\n",
       "      <td>2015-11-23</td>\n",
       "      <td>475.000000</td>\n",
       "      <td>478.950012</td>\n",
       "      <td>473.100006</td>\n",
       "      <td>476.875000</td>\n",
       "      <td>456.661224</td>\n",
       "      <td>4800026.0</td>\n",
       "    </tr>\n",
       "    <tr>\n",
       "      <th>4</th>\n",
       "      <td>2015-11-24</td>\n",
       "      <td>476.500000</td>\n",
       "      <td>485.799988</td>\n",
       "      <td>475.524994</td>\n",
       "      <td>483.850006</td>\n",
       "      <td>463.340515</td>\n",
       "      <td>6768886.0</td>\n",
       "    </tr>\n",
       "  </tbody>\n",
       "</table>\n",
       "</div>"
      ],
      "text/plain": [
       "         Date        Open        High         Low       Close   Adj Close  \\\n",
       "0  2015-11-18  463.799988  465.649994  454.975006  456.000000  436.671021   \n",
       "1  2015-11-19  459.450012  469.350006  458.625000  467.375000  447.563873   \n",
       "2  2015-11-20  467.000000  476.399994  462.774994  473.424988  453.357422   \n",
       "3  2015-11-23  475.000000  478.950012  473.100006  476.875000  456.661224   \n",
       "4  2015-11-24  476.500000  485.799988  475.524994  483.850006  463.340515   \n",
       "\n",
       "      Volume  \n",
       "0  5142766.0  \n",
       "1  5569752.0  \n",
       "2  5167930.0  \n",
       "3  4800026.0  \n",
       "4  6768886.0  "
      ]
     },
     "execution_count": 3,
     "metadata": {},
     "output_type": "execute_result"
    }
   ],
   "source": [
    "#Import the data and remove rows containing NAN values\n",
    "df = pd.read_csv('Reliance.csv')\n",
    "df = df.dropna()\n",
    "df.head()"
   ]
  },
  {
   "cell_type": "code",
   "execution_count": 4,
   "metadata": {},
   "outputs": [
    {
     "data": {
      "text/html": [
       "<div>\n",
       "<style scoped>\n",
       "    .dataframe tbody tr th:only-of-type {\n",
       "        vertical-align: middle;\n",
       "    }\n",
       "\n",
       "    .dataframe tbody tr th {\n",
       "        vertical-align: top;\n",
       "    }\n",
       "\n",
       "    .dataframe thead th {\n",
       "        text-align: right;\n",
       "    }\n",
       "</style>\n",
       "<table border=\"1\" class=\"dataframe\">\n",
       "  <thead>\n",
       "    <tr style=\"text-align: right;\">\n",
       "      <th></th>\n",
       "      <th>Date</th>\n",
       "      <th>Open</th>\n",
       "      <th>High</th>\n",
       "      <th>Low</th>\n",
       "      <th>Close</th>\n",
       "      <th>Adj Close</th>\n",
       "      <th>Volume</th>\n",
       "    </tr>\n",
       "  </thead>\n",
       "  <tbody>\n",
       "    <tr>\n",
       "      <th>1228</th>\n",
       "      <td>2020-11-10</td>\n",
       "      <td>2077.0</td>\n",
       "      <td>2090.000000</td>\n",
       "      <td>2041.199951</td>\n",
       "      <td>2084.550049</td>\n",
       "      <td>2084.550049</td>\n",
       "      <td>17045147.0</td>\n",
       "    </tr>\n",
       "    <tr>\n",
       "      <th>1229</th>\n",
       "      <td>2020-11-11</td>\n",
       "      <td>2089.0</td>\n",
       "      <td>2095.000000</td>\n",
       "      <td>1978.099976</td>\n",
       "      <td>1997.199951</td>\n",
       "      <td>1997.199951</td>\n",
       "      <td>26178477.0</td>\n",
       "    </tr>\n",
       "    <tr>\n",
       "      <th>1230</th>\n",
       "      <td>2020-11-12</td>\n",
       "      <td>1981.0</td>\n",
       "      <td>2008.449951</td>\n",
       "      <td>1965.000000</td>\n",
       "      <td>1980.000000</td>\n",
       "      <td>1980.000000</td>\n",
       "      <td>18481466.0</td>\n",
       "    </tr>\n",
       "    <tr>\n",
       "      <th>1231</th>\n",
       "      <td>2020-11-13</td>\n",
       "      <td>1982.0</td>\n",
       "      <td>2036.650024</td>\n",
       "      <td>1981.750000</td>\n",
       "      <td>1996.400024</td>\n",
       "      <td>1996.400024</td>\n",
       "      <td>20946864.0</td>\n",
       "    </tr>\n",
       "    <tr>\n",
       "      <th>1232</th>\n",
       "      <td>2020-11-17</td>\n",
       "      <td>2085.0</td>\n",
       "      <td>2085.000000</td>\n",
       "      <td>1985.000000</td>\n",
       "      <td>1993.250000</td>\n",
       "      <td>1993.250000</td>\n",
       "      <td>21479385.0</td>\n",
       "    </tr>\n",
       "  </tbody>\n",
       "</table>\n",
       "</div>"
      ],
      "text/plain": [
       "            Date    Open         High          Low        Close    Adj Close  \\\n",
       "1228  2020-11-10  2077.0  2090.000000  2041.199951  2084.550049  2084.550049   \n",
       "1229  2020-11-11  2089.0  2095.000000  1978.099976  1997.199951  1997.199951   \n",
       "1230  2020-11-12  1981.0  2008.449951  1965.000000  1980.000000  1980.000000   \n",
       "1231  2020-11-13  1982.0  2036.650024  1981.750000  1996.400024  1996.400024   \n",
       "1232  2020-11-17  2085.0  2085.000000  1985.000000  1993.250000  1993.250000   \n",
       "\n",
       "          Volume  \n",
       "1228  17045147.0  \n",
       "1229  26178477.0  \n",
       "1230  18481466.0  \n",
       "1231  20946864.0  \n",
       "1232  21479385.0  "
      ]
     },
     "execution_count": 4,
     "metadata": {},
     "output_type": "execute_result"
    }
   ],
   "source": [
    "df.tail()"
   ]
  },
  {
   "cell_type": "code",
   "execution_count": 5,
   "metadata": {},
   "outputs": [],
   "source": [
    "df_close = df['Close']"
   ]
  },
  {
   "cell_type": "code",
   "execution_count": 6,
   "metadata": {},
   "outputs": [
    {
     "data": {
      "text/plain": [
       "(1232,)"
      ]
     },
     "execution_count": 6,
     "metadata": {},
     "output_type": "execute_result"
    }
   ],
   "source": [
    "df_close.shape"
   ]
  },
  {
   "cell_type": "code",
   "execution_count": 7,
   "metadata": {},
   "outputs": [
    {
     "data": {
      "text/plain": [
       "[<matplotlib.lines.Line2D at 0x242ec10bbe0>]"
      ]
     },
     "execution_count": 7,
     "metadata": {},
     "output_type": "execute_result"
    },
    {
     "data": {
      "image/png": "[encoded data removed]",
      "text/plain": [
       "<Figure size 432x288 with 1 Axes>"
      ]
     },
     "metadata": {
      "needs_background": "light"
     },
     "output_type": "display_data"
    }
   ],
   "source": [
    "plt.plot(df_close)"
   ]
  },
  {
   "cell_type": "markdown",
   "metadata": {},
   "source": [
    "Since LSTM are sensitive to the scale of the data, so we apply MinMax Scaler to transform our values between 0 and 1"
   ]
  },
  {
   "cell_type": "code",
   "execution_count": 8,
   "metadata": {},
   "outputs": [],
   "source": [
    "scaler = MinMaxScaler(feature_range = (0,1))\n",
    "df_close = scaler.fit_transform(np.array(df_close).reshape(-1,1))"
   ]
  },
  {
   "cell_type": "code",
   "execution_count": 9,
   "metadata": {},
   "outputs": [
    {
     "data": {
      "text/plain": [
       "(1232, 1)"
      ]
     },
     "execution_count": 9,
     "metadata": {},
     "output_type": "execute_result"
    }
   ],
   "source": [
    "df_close.shape"
   ]
  },
  {
   "cell_type": "code",
   "execution_count": 10,
   "metadata": {},
   "outputs": [
    {
     "data": {
      "text/plain": [
       "array([[0.00145623],\n",
       "       [0.00753497],\n",
       "       [0.01076806],\n",
       "       ...,\n",
       "       [0.81587418],\n",
       "       [0.82463827],\n",
       "       [0.82295492]])"
      ]
     },
     "execution_count": 10,
     "metadata": {},
     "output_type": "execute_result"
    }
   ],
   "source": [
    "df_close"
   ]
  },
  {
   "cell_type": "code",
   "execution_count": 11,
   "metadata": {},
   "outputs": [],
   "source": [
    "#Split the data into train and test split\n",
    "training_size = int(len(df_close) * 0.75)\n",
    "test_size = len(df_close) - training_size\n",
    "train_data, test_data = df_close[0:training_size,:], df_close[training_size:len(df_close),:1]"
   ]
  },
  {
   "cell_type": "code",
   "execution_count": 12,
   "metadata": {},
   "outputs": [],
   "source": [
    "def create_dataset(dataset, time_step = 1):\n",
    "    dataX, dataY = [], []\n",
    "    for i in range(len(dataset) - time_step - 1):\n",
    "        a = dataset[i:(i+time_step), 0]\n",
    "        dataX.append(a)\n",
    "        dataY.append(dataset[i+time_step, 0])\n",
    "    return np.array(dataX), np.array(dataY)"
   ]
  },
  {
   "cell_type": "code",
   "execution_count": 13,
   "metadata": {},
   "outputs": [],
   "source": [
    "time_step = 100\n",
    "x_train, y_train = create_dataset(train_data, time_step)\n",
    "x_test, y_test = create_dataset(test_data, time_step)"
   ]
  },
  {
   "cell_type": "code",
   "execution_count": 14,
   "metadata": {},
   "outputs": [],
   "source": [
    "#Reshape the input to be [samples, time steps, features] which is the requirement of LSTM\n",
    "x_train = x_train.reshape(x_train.shape[0], x_train.shape[1], 1)\n",
    "x_test = x_test.reshape(x_test.shape[0], x_test.shape[1], 1)"
   ]
  },
  {
   "cell_type": "code",
   "execution_count": 15,
   "metadata": {},
   "outputs": [],
   "source": [
    "#Create the LSTM Model\n",
    "model = Sequential()\n",
    "model.add(LSTM(50, return_sequences = True, input_shape = (100,1)))\n",
    "model.add(LSTM(50, return_sequences = True))\n",
    "model.add(LSTM(50))\n",
    "model.add(Dense(1))\n",
    "model.compile(loss = 'mean_squared_error', optimizer = 'adam')\n"
   ]
  },
  {
   "cell_type": "code",
   "execution_count": 16,
   "metadata": {},
   "outputs": [
    {
     "name": "stdout",
     "output_type": "stream",
     "text": [
      "Model: \"sequential\"\n",
      "_________________________________________________________________\n",
      "Layer (type)                 Output Shape              Param #   \n",
      "=================================================================\n",
      "lstm (LSTM)                  (None, 100, 50)           10400     \n",
      "_________________________________________________________________\n",
      "lstm_1 (LSTM)                (None, 100, 50)           20200     \n",
      "_________________________________________________________________\n",
      "lstm_2 (LSTM)                (None, 50)                20200     \n",
      "_________________________________________________________________\n",
      "dense (Dense)                (None, 1)                 51        \n",
      "=================================================================\n",
      "Total params: 50,851\n",
      "Trainable params: 50,851\n",
      "Non-trainable params: 0\n",
      "_________________________________________________________________\n"
     ]
    }
   ],
   "source": [
    "model.summary()"
   ]
  },
  {
   "cell_type": "code",
   "execution_count": 17,
   "metadata": {},
   "outputs": [
    {
     "name": "stdout",
     "output_type": "stream",
     "text": [
      "Epoch 1/10\n",
      "13/13 [==============================] - 24s 547ms/step - loss: 0.0252 - val_loss: 0.0479\n",
      "Epoch 2/10\n",
      "13/13 [==============================] - 5s 383ms/step - loss: 0.0054 - val_loss: 0.0061\n",
      "Epoch 3/10\n",
      "13/13 [==============================] - 5s 388ms/step - loss: 0.0020 - val_loss: 0.0059\n",
      "Epoch 4/10\n",
      "13/13 [==============================] - 6s 493ms/step - loss: 7.4298e-04 - val_loss: 0.0059\n",
      "Epoch 5/10\n",
      "13/13 [==============================] - 6s 455ms/step - loss: 5.7002e-04 - val_loss: 0.0067\n",
      "Epoch 6/10\n",
      "13/13 [==============================] - 6s 435ms/step - loss: 5.3303e-04 - val_loss: 0.0062\n",
      "Epoch 7/10\n",
      "13/13 [==============================] - 5s 412ms/step - loss: 5.0727e-04 - val_loss: 0.0061\n",
      "Epoch 8/10\n",
      "13/13 [==============================] - 6s 448ms/step - loss: 4.9233e-04 - val_loss: 0.0067\n",
      "Epoch 9/10\n",
      "13/13 [==============================] - 6s 420ms/step - loss: 4.8430e-04 - val_loss: 0.0067\n",
      "Epoch 10/10\n",
      "13/13 [==============================] - 5s 392ms/step - loss: 4.8128e-04 - val_loss: 0.0094\n"
     ]
    },
    {
     "data": {
      "text/plain": [
       "<tensorflow.python.keras.callbacks.History at 0x242ee4381c0>"
      ]
     },
     "execution_count": 17,
     "metadata": {},
     "output_type": "execute_result"
    }
   ],
   "source": [
    "model.fit(x_train, y_train, validation_data = (x_test, y_test), epochs = 10, batch_size = 64, verbose = 1)"
   ]
  },
  {
   "cell_type": "code",
   "execution_count": 18,
   "metadata": {},
   "outputs": [],
   "source": [
    "#Lets predict and check performance metrics\n",
    "train_predict = model.predict(x_train)\n",
    "test_predict = model.predict(x_test)"
   ]
  },
  {
   "cell_type": "code",
   "execution_count": 19,
   "metadata": {},
   "outputs": [],
   "source": [
    "#Transform back to original form\n",
    "train_predict = scaler.inverse_transform(train_predict)\n",
    "test_predict = scaler.inverse_transform(test_predict)"
   ]
  },
  {
   "cell_type": "code",
   "execution_count": 20,
   "metadata": {},
   "outputs": [
    {
     "data": {
      "text/plain": [
       "910.958092365315"
      ]
     },
     "execution_count": 20,
     "metadata": {},
     "output_type": "execute_result"
    }
   ],
   "source": [
    "#Calculate RMSE performance metrics\n",
    "math.sqrt(mean_squared_error(y_train, train_predict))"
   ]
  },
  {
   "cell_type": "code",
   "execution_count": 21,
   "metadata": {},
   "outputs": [
    {
     "data": {
      "text/plain": [
       "1638.172782531723"
      ]
     },
     "execution_count": 21,
     "metadata": {},
     "output_type": "execute_result"
    }
   ],
   "source": [
    "#Test Data RMSE\n",
    "math.sqrt(mean_squared_error(y_test, test_predict))"
   ]
  },
  {
   "cell_type": "code",
   "execution_count": 22,
   "metadata": {},
   "outputs": [
    {
     "data": {
      "image/png": "[encoded data removed]",
      "text/plain": [
       "<Figure size 432x288 with 1 Axes>"
      ]
     },
     "metadata": {
      "needs_background": "light"
     },
     "output_type": "display_data"
    }
   ],
   "source": [
    "#Plotting\n",
    "\n",
    "#Shift train prediction for plotting\n",
    "look_back = 100\n",
    "trainPredictPlot = np.empty_like(df_close)\n",
    "trainPredictPlot[:,:] = np.nan\n",
    "trainPredictPlot[look_back:len(train_predict) + look_back, :] = train_predict\n",
    "\n",
    "#Shift test prediction for plotting\n",
    "testPredictPlot = np.empty_like(df_close)\n",
    "testPredictPlot[:,:] = np.nan\n",
    "testPredictPlot[len(train_predict) + (look_back * 2)+1:len(df_close) - 1, :] = test_predict\n",
    "\n",
    "#Plot baseline and predictions\n",
    "plt.plot(scaler.inverse_transform(df_close))\n",
    "plt.plot(trainPredictPlot)\n",
    "plt.plot(testPredictPlot)\n",
    "plt.show()"
   ]
  },
  {
   "cell_type": "markdown",
   "metadata": {},
   "source": [
    "### Predict the next 30 days Stock Price"
   ]
  },
  {
   "cell_type": "code",
   "execution_count": 23,
   "metadata": {},
   "outputs": [
    {
     "data": {
      "text/plain": [
       "(308, (207, 100, 1))"
      ]
     },
     "execution_count": 23,
     "metadata": {},
     "output_type": "execute_result"
    }
   ],
   "source": [
    "len(test_data), x_test.shape"
   ]
  },
  {
   "cell_type": "code",
   "execution_count": 24,
   "metadata": {},
   "outputs": [
    {
     "data": {
      "text/plain": [
       "(1, 101)"
      ]
     },
     "execution_count": 24,
     "metadata": {},
     "output_type": "execute_result"
    }
   ],
   "source": [
    "x_input = test_data[207:].reshape(1,-1)\n",
    "x_input.shape"
   ]
  },
  {
   "cell_type": "code",
   "execution_count": 25,
   "metadata": {},
   "outputs": [],
   "source": [
    "temp_input = list(x_input)\n",
    "temp_input = temp_input[0].tolist()"
   ]
  },
  {
   "cell_type": "code",
   "execution_count": 26,
   "metadata": {},
   "outputs": [
    {
     "name": "stdout",
     "output_type": "stream",
     "text": [
      "0 day input [0.67861484 0.66843459 0.68633683 0.69849431 0.71321692 0.74736477\n",
      " 0.73221462 0.7186143  0.73264216 0.76139264 0.79182641 0.7822073\n",
      " 0.74319647 0.74287584 0.77937498 0.78375706 0.81135857 0.82869966\n",
      " 0.85745014 0.90466386 0.91003455 0.92152404 0.8782113  0.88473103\n",
      " 0.86242004 0.83137164 0.90704202 0.8941363  0.8982245  0.9048242\n",
      " 0.89060937 0.89806416 0.89475093 0.89178502 0.88737626 0.87537912\n",
      " 0.88991463 0.89686177 0.87842514 0.87030236 0.8777304  0.87043596\n",
      " 0.89993454 0.88566622 0.88863201 0.86968773 0.87318804 0.89507149\n",
      " 0.88646781 0.86784409 0.87072978 0.88379584 0.91278677 0.99436211\n",
      " 0.99743488 0.98824331 0.99695397 1.         0.98621258 0.9899266\n",
      " 0.96328709 0.93939953 0.94990047 0.92339443 0.93434952 0.942125\n",
      " 0.9575156  0.9517976  0.94693455 0.93996067 0.93897212 0.96416879\n",
      " 0.95441608 0.95131656 0.95324044 0.97656673 0.98020064 0.93691465\n",
      " 0.92050875 0.92072245 0.90987421 0.89314775 0.8837156  0.88697546\n",
      " 0.84211296 0.84499871 0.83268088 0.84093732 0.85568661 0.76107195\n",
      " 0.74661661 0.78017657 0.80251431 0.84213971 0.85365588 0.8717452\n",
      " 0.82506575 0.81587418 0.82463827 0.82295492]\n",
      "0 day output [[0.75773907]]\n",
      "1 day input [0.66843459 0.68633683 0.69849431 0.71321692 0.74736477 0.73221462\n",
      " 0.7186143  0.73264216 0.76139264 0.79182641 0.7822073  0.74319647\n",
      " 0.74287584 0.77937498 0.78375706 0.81135857 0.82869966 0.85745014\n",
      " 0.90466386 0.91003455 0.92152404 0.8782113  0.88473103 0.86242004\n",
      " 0.83137164 0.90704202 0.8941363  0.8982245  0.9048242  0.89060937\n",
      " 0.89806416 0.89475093 0.89178502 0.88737626 0.87537912 0.88991463\n",
      " 0.89686177 0.87842514 0.87030236 0.8777304  0.87043596 0.89993454\n",
      " 0.88566622 0.88863201 0.86968773 0.87318804 0.89507149 0.88646781\n",
      " 0.86784409 0.87072978 0.88379584 0.91278677 0.99436211 0.99743488\n",
      " 0.98824331 0.99695397 1.         0.98621258 0.9899266  0.96328709\n",
      " 0.93939953 0.94990047 0.92339443 0.93434952 0.942125   0.9575156\n",
      " 0.9517976  0.94693455 0.93996067 0.93897212 0.96416879 0.95441608\n",
      " 0.95131656 0.95324044 0.97656673 0.98020064 0.93691465 0.92050875\n",
      " 0.92072245 0.90987421 0.89314775 0.8837156  0.88697546 0.84211296\n",
      " 0.84499871 0.83268088 0.84093732 0.85568661 0.76107195 0.74661661\n",
      " 0.78017657 0.80251431 0.84213971 0.85365588 0.8717452  0.82506575\n",
      " 0.81587418 0.82463827 0.82295492 0.75773907]\n",
      "1 day output [[0.7561327]]\n",
      "2 day input [0.68633683 0.69849431 0.71321692 0.74736477 0.73221462 0.7186143\n",
      " 0.73264216 0.76139264 0.79182641 0.7822073  0.74319647 0.74287584\n",
      " 0.77937498 0.78375706 0.81135857 0.82869966 0.85745014 0.90466386\n",
      " 0.91003455 0.92152404 0.8782113  0.88473103 0.86242004 0.83137164\n",
      " 0.90704202 0.8941363  0.8982245  0.9048242  0.89060937 0.89806416\n",
      " 0.89475093 0.89178502 0.88737626 0.87537912 0.88991463 0.89686177\n",
      " 0.87842514 0.87030236 0.8777304  0.87043596 0.89993454 0.88566622\n",
      " 0.88863201 0.86968773 0.87318804 0.89507149 0.88646781 0.86784409\n",
      " 0.87072978 0.88379584 0.91278677 0.99436211 0.99743488 0.98824331\n",
      " 0.99695397 1.         0.98621258 0.9899266  0.96328709 0.93939953\n",
      " 0.94990047 0.92339443 0.93434952 0.942125   0.9575156  0.9517976\n",
      " 0.94693455 0.93996067 0.93897212 0.96416879 0.95441608 0.95131656\n",
      " 0.95324044 0.97656673 0.98020064 0.93691465 0.92050875 0.92072245\n",
      " 0.90987421 0.89314775 0.8837156  0.88697546 0.84211296 0.84499871\n",
      " 0.83268088 0.84093732 0.85568661 0.76107195 0.74661661 0.78017657\n",
      " 0.80251431 0.84213971 0.85365588 0.8717452  0.82506575 0.81587418\n",
      " 0.82463827 0.82295492 0.75773907 0.75613272]\n",
      "2 day output [[0.75396526]]\n",
      "3 day input [0.69849431 0.71321692 0.74736477 0.73221462 0.7186143  0.73264216\n",
      " 0.76139264 0.79182641 0.7822073  0.74319647 0.74287584 0.77937498\n",
      " 0.78375706 0.81135857 0.82869966 0.85745014 0.90466386 0.91003455\n",
      " 0.92152404 0.8782113  0.88473103 0.86242004 0.83137164 0.90704202\n",
      " 0.8941363  0.8982245  0.9048242  0.89060937 0.89806416 0.89475093\n",
      " 0.89178502 0.88737626 0.87537912 0.88991463 0.89686177 0.87842514\n",
      " 0.87030236 0.8777304  0.87043596 0.89993454 0.88566622 0.88863201\n",
      " 0.86968773 0.87318804 0.89507149 0.88646781 0.86784409 0.87072978\n",
      " 0.88379584 0.91278677 0.99436211 0.99743488 0.98824331 0.99695397\n",
      " 1.         0.98621258 0.9899266  0.96328709 0.93939953 0.94990047\n",
      " 0.92339443 0.93434952 0.942125   0.9575156  0.9517976  0.94693455\n",
      " 0.93996067 0.93897212 0.96416879 0.95441608 0.95131656 0.95324044\n",
      " 0.97656673 0.98020064 0.93691465 0.92050875 0.92072245 0.90987421\n",
      " 0.89314775 0.8837156  0.88697546 0.84211296 0.84499871 0.83268088\n",
      " 0.84093732 0.85568661 0.76107195 0.74661661 0.78017657 0.80251431\n",
      " 0.84213971 0.85365588 0.8717452  0.82506575 0.81587418 0.82463827\n",
      " 0.82295492 0.75773907 0.75613272 0.75396526]\n",
      "3 day output [[0.75112915]]\n",
      "4 day input [0.71321692 0.74736477 0.73221462 0.7186143  0.73264216 0.76139264\n",
      " 0.79182641 0.7822073  0.74319647 0.74287584 0.77937498 0.78375706\n",
      " 0.81135857 0.82869966 0.85745014 0.90466386 0.91003455 0.92152404\n",
      " 0.8782113  0.88473103 0.86242004 0.83137164 0.90704202 0.8941363\n",
      " 0.8982245  0.9048242  0.89060937 0.89806416 0.89475093 0.89178502\n",
      " 0.88737626 0.87537912 0.88991463 0.89686177 0.87842514 0.87030236\n",
      " 0.8777304  0.87043596 0.89993454 0.88566622 0.88863201 0.86968773\n",
      " 0.87318804 0.89507149 0.88646781 0.86784409 0.87072978 0.88379584\n",
      " 0.91278677 0.99436211 0.99743488 0.98824331 0.99695397 1.\n",
      " 0.98621258 0.9899266  0.96328709 0.93939953 0.94990047 0.92339443\n",
      " 0.93434952 0.942125   0.9575156  0.9517976  0.94693455 0.93996067\n",
      " 0.93897212 0.96416879 0.95441608 0.95131656 0.95324044 0.97656673\n",
      " 0.98020064 0.93691465 0.92050875 0.92072245 0.90987421 0.89314775\n",
      " 0.8837156  0.88697546 0.84211296 0.84499871 0.83268088 0.84093732\n",
      " 0.85568661 0.76107195 0.74661661 0.78017657 0.80251431 0.84213971\n",
      " 0.85365588 0.8717452  0.82506575 0.81587418 0.82463827 0.82295492\n",
      " 0.75773907 0.75613272 0.75396526 0.75112915]\n",
      "4 day output [[0.7476532]]\n",
      "5 day input [0.74736477 0.73221462 0.7186143  0.73264216 0.76139264 0.79182641\n",
      " 0.7822073  0.74319647 0.74287584 0.77937498 0.78375706 0.81135857\n",
      " 0.82869966 0.85745014 0.90466386 0.91003455 0.92152404 0.8782113\n",
      " 0.88473103 0.86242004 0.83137164 0.90704202 0.8941363  0.8982245\n",
      " 0.9048242  0.89060937 0.89806416 0.89475093 0.89178502 0.88737626\n",
      " 0.87537912 0.88991463 0.89686177 0.87842514 0.87030236 0.8777304\n",
      " 0.87043596 0.89993454 0.88566622 0.88863201 0.86968773 0.87318804\n",
      " 0.89507149 0.88646781 0.86784409 0.87072978 0.88379584 0.91278677\n",
      " 0.99436211 0.99743488 0.98824331 0.99695397 1.         0.98621258\n",
      " 0.9899266  0.96328709 0.93939953 0.94990047 0.92339443 0.93434952\n",
      " 0.942125   0.9575156  0.9517976  0.94693455 0.93996067 0.93897212\n",
      " 0.96416879 0.95441608 0.95131656 0.95324044 0.97656673 0.98020064\n",
      " 0.93691465 0.92050875 0.92072245 0.90987421 0.89314775 0.8837156\n",
      " 0.88697546 0.84211296 0.84499871 0.83268088 0.84093732 0.85568661\n",
      " 0.76107195 0.74661661 0.78017657 0.80251431 0.84213971 0.85365588\n",
      " 0.8717452  0.82506575 0.81587418 0.82463827 0.82295492 0.75773907\n",
      " 0.75613272 0.75396526 0.75112915 0.74765319]\n",
      "5 day output [[0.7436389]]\n",
      "6 day input [0.73221462 0.7186143  0.73264216 0.76139264 0.79182641 0.7822073\n",
      " 0.74319647 0.74287584 0.77937498 0.78375706 0.81135857 0.82869966\n",
      " 0.85745014 0.90466386 0.91003455 0.92152404 0.8782113  0.88473103\n",
      " 0.86242004 0.83137164 0.90704202 0.8941363  0.8982245  0.9048242\n",
      " 0.89060937 0.89806416 0.89475093 0.89178502 0.88737626 0.87537912\n",
      " 0.88991463 0.89686177 0.87842514 0.87030236 0.8777304  0.87043596\n",
      " 0.89993454 0.88566622 0.88863201 0.86968773 0.87318804 0.89507149\n",
      " 0.88646781 0.86784409 0.87072978 0.88379584 0.91278677 0.99436211\n",
      " 0.99743488 0.98824331 0.99695397 1.         0.98621258 0.9899266\n",
      " 0.96328709 0.93939953 0.94990047 0.92339443 0.93434952 0.942125\n",
      " 0.9575156  0.9517976  0.94693455 0.93996067 0.93897212 0.96416879\n",
      " 0.95441608 0.95131656 0.95324044 0.97656673 0.98020064 0.93691465\n",
      " 0.92050875 0.92072245 0.90987421 0.89314775 0.8837156  0.88697546\n",
      " 0.84211296 0.84499871 0.83268088 0.84093732 0.85568661 0.76107195\n",
      " 0.74661661 0.78017657 0.80251431 0.84213971 0.85365588 0.8717452\n",
      " 0.82506575 0.81587418 0.82463827 0.82295492 0.75773907 0.75613272\n",
      " 0.75396526 0.75112915 0.74765319 0.74363887]\n",
      "6 day output [[0.739215]]\n",
      "7 day input [0.7186143  0.73264216 0.76139264 0.79182641 0.7822073  0.74319647\n",
      " 0.74287584 0.77937498 0.78375706 0.81135857 0.82869966 0.85745014\n",
      " 0.90466386 0.91003455 0.92152404 0.8782113  0.88473103 0.86242004\n",
      " 0.83137164 0.90704202 0.8941363  0.8982245  0.9048242  0.89060937\n",
      " 0.89806416 0.89475093 0.89178502 0.88737626 0.87537912 0.88991463\n",
      " 0.89686177 0.87842514 0.87030236 0.8777304  0.87043596 0.89993454\n",
      " 0.88566622 0.88863201 0.86968773 0.87318804 0.89507149 0.88646781\n",
      " 0.86784409 0.87072978 0.88379584 0.91278677 0.99436211 0.99743488\n",
      " 0.98824331 0.99695397 1.         0.98621258 0.9899266  0.96328709\n",
      " 0.93939953 0.94990047 0.92339443 0.93434952 0.942125   0.9575156\n",
      " 0.9517976  0.94693455 0.93996067 0.93897212 0.96416879 0.95441608\n",
      " 0.95131656 0.95324044 0.97656673 0.98020064 0.93691465 0.92050875\n",
      " 0.92072245 0.90987421 0.89314775 0.8837156  0.88697546 0.84211296\n",
      " 0.84499871 0.83268088 0.84093732 0.85568661 0.76107195 0.74661661\n",
      " 0.78017657 0.80251431 0.84213971 0.85365588 0.8717452  0.82506575\n",
      " 0.81587418 0.82463827 0.82295492 0.75773907 0.75613272 0.75396526\n",
      " 0.75112915 0.74765319 0.74363887 0.73921502]\n"
     ]
    },
    {
     "name": "stdout",
     "output_type": "stream",
     "text": [
      "7 day output [[0.7345109]]\n",
      "8 day input [0.73264216 0.76139264 0.79182641 0.7822073  0.74319647 0.74287584\n",
      " 0.77937498 0.78375706 0.81135857 0.82869966 0.85745014 0.90466386\n",
      " 0.91003455 0.92152404 0.8782113  0.88473103 0.86242004 0.83137164\n",
      " 0.90704202 0.8941363  0.8982245  0.9048242  0.89060937 0.89806416\n",
      " 0.89475093 0.89178502 0.88737626 0.87537912 0.88991463 0.89686177\n",
      " 0.87842514 0.87030236 0.8777304  0.87043596 0.89993454 0.88566622\n",
      " 0.88863201 0.86968773 0.87318804 0.89507149 0.88646781 0.86784409\n",
      " 0.87072978 0.88379584 0.91278677 0.99436211 0.99743488 0.98824331\n",
      " 0.99695397 1.         0.98621258 0.9899266  0.96328709 0.93939953\n",
      " 0.94990047 0.92339443 0.93434952 0.942125   0.9575156  0.9517976\n",
      " 0.94693455 0.93996067 0.93897212 0.96416879 0.95441608 0.95131656\n",
      " 0.95324044 0.97656673 0.98020064 0.93691465 0.92050875 0.92072245\n",
      " 0.90987421 0.89314775 0.8837156  0.88697546 0.84211296 0.84499871\n",
      " 0.83268088 0.84093732 0.85568661 0.76107195 0.74661661 0.78017657\n",
      " 0.80251431 0.84213971 0.85365588 0.8717452  0.82506575 0.81587418\n",
      " 0.82463827 0.82295492 0.75773907 0.75613272 0.75396526 0.75112915\n",
      " 0.74765319 0.74363887 0.73921502 0.7345109 ]\n",
      "8 day output [[0.72963995]]\n",
      "9 day input [0.76139264 0.79182641 0.7822073  0.74319647 0.74287584 0.77937498\n",
      " 0.78375706 0.81135857 0.82869966 0.85745014 0.90466386 0.91003455\n",
      " 0.92152404 0.8782113  0.88473103 0.86242004 0.83137164 0.90704202\n",
      " 0.8941363  0.8982245  0.9048242  0.89060937 0.89806416 0.89475093\n",
      " 0.89178502 0.88737626 0.87537912 0.88991463 0.89686177 0.87842514\n",
      " 0.87030236 0.8777304  0.87043596 0.89993454 0.88566622 0.88863201\n",
      " 0.86968773 0.87318804 0.89507149 0.88646781 0.86784409 0.87072978\n",
      " 0.88379584 0.91278677 0.99436211 0.99743488 0.98824331 0.99695397\n",
      " 1.         0.98621258 0.9899266  0.96328709 0.93939953 0.94990047\n",
      " 0.92339443 0.93434952 0.942125   0.9575156  0.9517976  0.94693455\n",
      " 0.93996067 0.93897212 0.96416879 0.95441608 0.95131656 0.95324044\n",
      " 0.97656673 0.98020064 0.93691465 0.92050875 0.92072245 0.90987421\n",
      " 0.89314775 0.8837156  0.88697546 0.84211296 0.84499871 0.83268088\n",
      " 0.84093732 0.85568661 0.76107195 0.74661661 0.78017657 0.80251431\n",
      " 0.84213971 0.85365588 0.8717452  0.82506575 0.81587418 0.82463827\n",
      " 0.82295492 0.75773907 0.75613272 0.75396526 0.75112915 0.74765319\n",
      " 0.74363887 0.73921502 0.7345109  0.72963995]\n",
      "9 day output [[0.7246944]]\n",
      "10 day input [0.79182641 0.7822073  0.74319647 0.74287584 0.77937498 0.78375706\n",
      " 0.81135857 0.82869966 0.85745014 0.90466386 0.91003455 0.92152404\n",
      " 0.8782113  0.88473103 0.86242004 0.83137164 0.90704202 0.8941363\n",
      " 0.8982245  0.9048242  0.89060937 0.89806416 0.89475093 0.89178502\n",
      " 0.88737626 0.87537912 0.88991463 0.89686177 0.87842514 0.87030236\n",
      " 0.8777304  0.87043596 0.89993454 0.88566622 0.88863201 0.86968773\n",
      " 0.87318804 0.89507149 0.88646781 0.86784409 0.87072978 0.88379584\n",
      " 0.91278677 0.99436211 0.99743488 0.98824331 0.99695397 1.\n",
      " 0.98621258 0.9899266  0.96328709 0.93939953 0.94990047 0.92339443\n",
      " 0.93434952 0.942125   0.9575156  0.9517976  0.94693455 0.93996067\n",
      " 0.93897212 0.96416879 0.95441608 0.95131656 0.95324044 0.97656673\n",
      " 0.98020064 0.93691465 0.92050875 0.92072245 0.90987421 0.89314775\n",
      " 0.8837156  0.88697546 0.84211296 0.84499871 0.83268088 0.84093732\n",
      " 0.85568661 0.76107195 0.74661661 0.78017657 0.80251431 0.84213971\n",
      " 0.85365588 0.8717452  0.82506575 0.81587418 0.82463827 0.82295492\n",
      " 0.75773907 0.75613272 0.75396526 0.75112915 0.74765319 0.74363887\n",
      " 0.73921502 0.7345109  0.72963995 0.72469437]\n",
      "10 day output [[0.71974355]]\n",
      "11 day input [0.7822073  0.74319647 0.74287584 0.77937498 0.78375706 0.81135857\n",
      " 0.82869966 0.85745014 0.90466386 0.91003455 0.92152404 0.8782113\n",
      " 0.88473103 0.86242004 0.83137164 0.90704202 0.8941363  0.8982245\n",
      " 0.9048242  0.89060937 0.89806416 0.89475093 0.89178502 0.88737626\n",
      " 0.87537912 0.88991463 0.89686177 0.87842514 0.87030236 0.8777304\n",
      " 0.87043596 0.89993454 0.88566622 0.88863201 0.86968773 0.87318804\n",
      " 0.89507149 0.88646781 0.86784409 0.87072978 0.88379584 0.91278677\n",
      " 0.99436211 0.99743488 0.98824331 0.99695397 1.         0.98621258\n",
      " 0.9899266  0.96328709 0.93939953 0.94990047 0.92339443 0.93434952\n",
      " 0.942125   0.9575156  0.9517976  0.94693455 0.93996067 0.93897212\n",
      " 0.96416879 0.95441608 0.95131656 0.95324044 0.97656673 0.98020064\n",
      " 0.93691465 0.92050875 0.92072245 0.90987421 0.89314775 0.8837156\n",
      " 0.88697546 0.84211296 0.84499871 0.83268088 0.84093732 0.85568661\n",
      " 0.76107195 0.74661661 0.78017657 0.80251431 0.84213971 0.85365588\n",
      " 0.8717452  0.82506575 0.81587418 0.82463827 0.82295492 0.75773907\n",
      " 0.75613272 0.75396526 0.75112915 0.74765319 0.74363887 0.73921502\n",
      " 0.7345109  0.72963995 0.72469437 0.71974355]\n",
      "11 day output [[0.71483576]]\n",
      "12 day input [0.74319647 0.74287584 0.77937498 0.78375706 0.81135857 0.82869966\n",
      " 0.85745014 0.90466386 0.91003455 0.92152404 0.8782113  0.88473103\n",
      " 0.86242004 0.83137164 0.90704202 0.8941363  0.8982245  0.9048242\n",
      " 0.89060937 0.89806416 0.89475093 0.89178502 0.88737626 0.87537912\n",
      " 0.88991463 0.89686177 0.87842514 0.87030236 0.8777304  0.87043596\n",
      " 0.89993454 0.88566622 0.88863201 0.86968773 0.87318804 0.89507149\n",
      " 0.88646781 0.86784409 0.87072978 0.88379584 0.91278677 0.99436211\n",
      " 0.99743488 0.98824331 0.99695397 1.         0.98621258 0.9899266\n",
      " 0.96328709 0.93939953 0.94990047 0.92339443 0.93434952 0.942125\n",
      " 0.9575156  0.9517976  0.94693455 0.93996067 0.93897212 0.96416879\n",
      " 0.95441608 0.95131656 0.95324044 0.97656673 0.98020064 0.93691465\n",
      " 0.92050875 0.92072245 0.90987421 0.89314775 0.8837156  0.88697546\n",
      " 0.84211296 0.84499871 0.83268088 0.84093732 0.85568661 0.76107195\n",
      " 0.74661661 0.78017657 0.80251431 0.84213971 0.85365588 0.8717452\n",
      " 0.82506575 0.81587418 0.82463827 0.82295492 0.75773907 0.75613272\n",
      " 0.75396526 0.75112915 0.74765319 0.74363887 0.73921502 0.7345109\n",
      " 0.72963995 0.72469437 0.71974355 0.71483576]\n",
      "12 day output [[0.7100035]]\n",
      "13 day input [0.74287584 0.77937498 0.78375706 0.81135857 0.82869966 0.85745014\n",
      " 0.90466386 0.91003455 0.92152404 0.8782113  0.88473103 0.86242004\n",
      " 0.83137164 0.90704202 0.8941363  0.8982245  0.9048242  0.89060937\n",
      " 0.89806416 0.89475093 0.89178502 0.88737626 0.87537912 0.88991463\n",
      " 0.89686177 0.87842514 0.87030236 0.8777304  0.87043596 0.89993454\n",
      " 0.88566622 0.88863201 0.86968773 0.87318804 0.89507149 0.88646781\n",
      " 0.86784409 0.87072978 0.88379584 0.91278677 0.99436211 0.99743488\n",
      " 0.98824331 0.99695397 1.         0.98621258 0.9899266  0.96328709\n",
      " 0.93939953 0.94990047 0.92339443 0.93434952 0.942125   0.9575156\n",
      " 0.9517976  0.94693455 0.93996067 0.93897212 0.96416879 0.95441608\n",
      " 0.95131656 0.95324044 0.97656673 0.98020064 0.93691465 0.92050875\n",
      " 0.92072245 0.90987421 0.89314775 0.8837156  0.88697546 0.84211296\n",
      " 0.84499871 0.83268088 0.84093732 0.85568661 0.76107195 0.74661661\n",
      " 0.78017657 0.80251431 0.84213971 0.85365588 0.8717452  0.82506575\n",
      " 0.81587418 0.82463827 0.82295492 0.75773907 0.75613272 0.75396526\n",
      " 0.75112915 0.74765319 0.74363887 0.73921502 0.7345109  0.72963995\n",
      " 0.72469437 0.71974355 0.71483576 0.7100035 ]\n",
      "13 day output [[0.7052652]]\n",
      "14 day input [0.77937498 0.78375706 0.81135857 0.82869966 0.85745014 0.90466386\n",
      " 0.91003455 0.92152404 0.8782113  0.88473103 0.86242004 0.83137164\n",
      " 0.90704202 0.8941363  0.8982245  0.9048242  0.89060937 0.89806416\n",
      " 0.89475093 0.89178502 0.88737626 0.87537912 0.88991463 0.89686177\n",
      " 0.87842514 0.87030236 0.8777304  0.87043596 0.89993454 0.88566622\n",
      " 0.88863201 0.86968773 0.87318804 0.89507149 0.88646781 0.86784409\n",
      " 0.87072978 0.88379584 0.91278677 0.99436211 0.99743488 0.98824331\n",
      " 0.99695397 1.         0.98621258 0.9899266  0.96328709 0.93939953\n",
      " 0.94990047 0.92339443 0.93434952 0.942125   0.9575156  0.9517976\n",
      " 0.94693455 0.93996067 0.93897212 0.96416879 0.95441608 0.95131656\n",
      " 0.95324044 0.97656673 0.98020064 0.93691465 0.92050875 0.92072245\n",
      " 0.90987421 0.89314775 0.8837156  0.88697546 0.84211296 0.84499871\n",
      " 0.83268088 0.84093732 0.85568661 0.76107195 0.74661661 0.78017657\n",
      " 0.80251431 0.84213971 0.85365588 0.8717452  0.82506575 0.81587418\n",
      " 0.82463827 0.82295492 0.75773907 0.75613272 0.75396526 0.75112915\n",
      " 0.74765319 0.74363887 0.73921502 0.7345109  0.72963995 0.72469437\n",
      " 0.71974355 0.71483576 0.7100035  0.70526522]\n",
      "14 day output [[0.70063055]]\n",
      "15 day input [0.78375706 0.81135857 0.82869966 0.85745014 0.90466386 0.91003455\n",
      " 0.92152404 0.8782113  0.88473103 0.86242004 0.83137164 0.90704202\n",
      " 0.8941363  0.8982245  0.9048242  0.89060937 0.89806416 0.89475093\n",
      " 0.89178502 0.88737626 0.87537912 0.88991463 0.89686177 0.87842514\n",
      " 0.87030236 0.8777304  0.87043596 0.89993454 0.88566622 0.88863201\n",
      " 0.86968773 0.87318804 0.89507149 0.88646781 0.86784409 0.87072978\n",
      " 0.88379584 0.91278677 0.99436211 0.99743488 0.98824331 0.99695397\n",
      " 1.         0.98621258 0.9899266  0.96328709 0.93939953 0.94990047\n",
      " 0.92339443 0.93434952 0.942125   0.9575156  0.9517976  0.94693455\n",
      " 0.93996067 0.93897212 0.96416879 0.95441608 0.95131656 0.95324044\n",
      " 0.97656673 0.98020064 0.93691465 0.92050875 0.92072245 0.90987421\n",
      " 0.89314775 0.8837156  0.88697546 0.84211296 0.84499871 0.83268088\n",
      " 0.84093732 0.85568661 0.76107195 0.74661661 0.78017657 0.80251431\n",
      " 0.84213971 0.85365588 0.8717452  0.82506575 0.81587418 0.82463827\n",
      " 0.82295492 0.75773907 0.75613272 0.75396526 0.75112915 0.74765319\n",
      " 0.74363887 0.73921502 0.7345109  0.72963995 0.72469437 0.71974355\n",
      " 0.71483576 0.7100035  0.70526522 0.70063055]\n"
     ]
    },
    {
     "name": "stdout",
     "output_type": "stream",
     "text": [
      "15 day output [[0.6961028]]\n",
      "16 day input [0.81135857 0.82869966 0.85745014 0.90466386 0.91003455 0.92152404\n",
      " 0.8782113  0.88473103 0.86242004 0.83137164 0.90704202 0.8941363\n",
      " 0.8982245  0.9048242  0.89060937 0.89806416 0.89475093 0.89178502\n",
      " 0.88737626 0.87537912 0.88991463 0.89686177 0.87842514 0.87030236\n",
      " 0.8777304  0.87043596 0.89993454 0.88566622 0.88863201 0.86968773\n",
      " 0.87318804 0.89507149 0.88646781 0.86784409 0.87072978 0.88379584\n",
      " 0.91278677 0.99436211 0.99743488 0.98824331 0.99695397 1.\n",
      " 0.98621258 0.9899266  0.96328709 0.93939953 0.94990047 0.92339443\n",
      " 0.93434952 0.942125   0.9575156  0.9517976  0.94693455 0.93996067\n",
      " 0.93897212 0.96416879 0.95441608 0.95131656 0.95324044 0.97656673\n",
      " 0.98020064 0.93691465 0.92050875 0.92072245 0.90987421 0.89314775\n",
      " 0.8837156  0.88697546 0.84211296 0.84499871 0.83268088 0.84093732\n",
      " 0.85568661 0.76107195 0.74661661 0.78017657 0.80251431 0.84213971\n",
      " 0.85365588 0.8717452  0.82506575 0.81587418 0.82463827 0.82295492\n",
      " 0.75773907 0.75613272 0.75396526 0.75112915 0.74765319 0.74363887\n",
      " 0.73921502 0.7345109  0.72963995 0.72469437 0.71974355 0.71483576\n",
      " 0.7100035  0.70526522 0.70063055 0.6961028 ]\n",
      "16 day output [[0.6916805]]\n",
      "17 day input [0.82869966 0.85745014 0.90466386 0.91003455 0.92152404 0.8782113\n",
      " 0.88473103 0.86242004 0.83137164 0.90704202 0.8941363  0.8982245\n",
      " 0.9048242  0.89060937 0.89806416 0.89475093 0.89178502 0.88737626\n",
      " 0.87537912 0.88991463 0.89686177 0.87842514 0.87030236 0.8777304\n",
      " 0.87043596 0.89993454 0.88566622 0.88863201 0.86968773 0.87318804\n",
      " 0.89507149 0.88646781 0.86784409 0.87072978 0.88379584 0.91278677\n",
      " 0.99436211 0.99743488 0.98824331 0.99695397 1.         0.98621258\n",
      " 0.9899266  0.96328709 0.93939953 0.94990047 0.92339443 0.93434952\n",
      " 0.942125   0.9575156  0.9517976  0.94693455 0.93996067 0.93897212\n",
      " 0.96416879 0.95441608 0.95131656 0.95324044 0.97656673 0.98020064\n",
      " 0.93691465 0.92050875 0.92072245 0.90987421 0.89314775 0.8837156\n",
      " 0.88697546 0.84211296 0.84499871 0.83268088 0.84093732 0.85568661\n",
      " 0.76107195 0.74661661 0.78017657 0.80251431 0.84213971 0.85365588\n",
      " 0.8717452  0.82506575 0.81587418 0.82463827 0.82295492 0.75773907\n",
      " 0.75613272 0.75396526 0.75112915 0.74765319 0.74363887 0.73921502\n",
      " 0.7345109  0.72963995 0.72469437 0.71974355 0.71483576 0.7100035\n",
      " 0.70526522 0.70063055 0.6961028  0.69168049]\n",
      "17 day output [[0.6873611]]\n",
      "18 day input [0.85745014 0.90466386 0.91003455 0.92152404 0.8782113  0.88473103\n",
      " 0.86242004 0.83137164 0.90704202 0.8941363  0.8982245  0.9048242\n",
      " 0.89060937 0.89806416 0.89475093 0.89178502 0.88737626 0.87537912\n",
      " 0.88991463 0.89686177 0.87842514 0.87030236 0.8777304  0.87043596\n",
      " 0.89993454 0.88566622 0.88863201 0.86968773 0.87318804 0.89507149\n",
      " 0.88646781 0.86784409 0.87072978 0.88379584 0.91278677 0.99436211\n",
      " 0.99743488 0.98824331 0.99695397 1.         0.98621258 0.9899266\n",
      " 0.96328709 0.93939953 0.94990047 0.92339443 0.93434952 0.942125\n",
      " 0.9575156  0.9517976  0.94693455 0.93996067 0.93897212 0.96416879\n",
      " 0.95441608 0.95131656 0.95324044 0.97656673 0.98020064 0.93691465\n",
      " 0.92050875 0.92072245 0.90987421 0.89314775 0.8837156  0.88697546\n",
      " 0.84211296 0.84499871 0.83268088 0.84093732 0.85568661 0.76107195\n",
      " 0.74661661 0.78017657 0.80251431 0.84213971 0.85365588 0.8717452\n",
      " 0.82506575 0.81587418 0.82463827 0.82295492 0.75773907 0.75613272\n",
      " 0.75396526 0.75112915 0.74765319 0.74363887 0.73921502 0.7345109\n",
      " 0.72963995 0.72469437 0.71974355 0.71483576 0.7100035  0.70526522\n",
      " 0.70063055 0.6961028  0.69168049 0.68736112]\n",
      "18 day output [[0.68314016]]\n",
      "19 day input [0.90466386 0.91003455 0.92152404 0.8782113  0.88473103 0.86242004\n",
      " 0.83137164 0.90704202 0.8941363  0.8982245  0.9048242  0.89060937\n",
      " 0.89806416 0.89475093 0.89178502 0.88737626 0.87537912 0.88991463\n",
      " 0.89686177 0.87842514 0.87030236 0.8777304  0.87043596 0.89993454\n",
      " 0.88566622 0.88863201 0.86968773 0.87318804 0.89507149 0.88646781\n",
      " 0.86784409 0.87072978 0.88379584 0.91278677 0.99436211 0.99743488\n",
      " 0.98824331 0.99695397 1.         0.98621258 0.9899266  0.96328709\n",
      " 0.93939953 0.94990047 0.92339443 0.93434952 0.942125   0.9575156\n",
      " 0.9517976  0.94693455 0.93996067 0.93897212 0.96416879 0.95441608\n",
      " 0.95131656 0.95324044 0.97656673 0.98020064 0.93691465 0.92050875\n",
      " 0.92072245 0.90987421 0.89314775 0.8837156  0.88697546 0.84211296\n",
      " 0.84499871 0.83268088 0.84093732 0.85568661 0.76107195 0.74661661\n",
      " 0.78017657 0.80251431 0.84213971 0.85365588 0.8717452  0.82506575\n",
      " 0.81587418 0.82463827 0.82295492 0.75773907 0.75613272 0.75396526\n",
      " 0.75112915 0.74765319 0.74363887 0.73921502 0.7345109  0.72963995\n",
      " 0.72469437 0.71974355 0.71483576 0.7100035  0.70526522 0.70063055\n",
      " 0.6961028  0.69168049 0.68736112 0.68314016]\n",
      "19 day output [[0.6790128]]\n",
      "20 day input [0.91003455 0.92152404 0.8782113  0.88473103 0.86242004 0.83137164\n",
      " 0.90704202 0.8941363  0.8982245  0.9048242  0.89060937 0.89806416\n",
      " 0.89475093 0.89178502 0.88737626 0.87537912 0.88991463 0.89686177\n",
      " 0.87842514 0.87030236 0.8777304  0.87043596 0.89993454 0.88566622\n",
      " 0.88863201 0.86968773 0.87318804 0.89507149 0.88646781 0.86784409\n",
      " 0.87072978 0.88379584 0.91278677 0.99436211 0.99743488 0.98824331\n",
      " 0.99695397 1.         0.98621258 0.9899266  0.96328709 0.93939953\n",
      " 0.94990047 0.92339443 0.93434952 0.942125   0.9575156  0.9517976\n",
      " 0.94693455 0.93996067 0.93897212 0.96416879 0.95441608 0.95131656\n",
      " 0.95324044 0.97656673 0.98020064 0.93691465 0.92050875 0.92072245\n",
      " 0.90987421 0.89314775 0.8837156  0.88697546 0.84211296 0.84499871\n",
      " 0.83268088 0.84093732 0.85568661 0.76107195 0.74661661 0.78017657\n",
      " 0.80251431 0.84213971 0.85365588 0.8717452  0.82506575 0.81587418\n",
      " 0.82463827 0.82295492 0.75773907 0.75613272 0.75396526 0.75112915\n",
      " 0.74765319 0.74363887 0.73921502 0.7345109  0.72963995 0.72469437\n",
      " 0.71974355 0.71483576 0.7100035  0.70526522 0.70063055 0.6961028\n",
      " 0.69168049 0.68736112 0.68314016 0.67901278]\n",
      "20 day output [[0.6749743]]\n",
      "21 day input [0.92152404 0.8782113  0.88473103 0.86242004 0.83137164 0.90704202\n",
      " 0.8941363  0.8982245  0.9048242  0.89060937 0.89806416 0.89475093\n",
      " 0.89178502 0.88737626 0.87537912 0.88991463 0.89686177 0.87842514\n",
      " 0.87030236 0.8777304  0.87043596 0.89993454 0.88566622 0.88863201\n",
      " 0.86968773 0.87318804 0.89507149 0.88646781 0.86784409 0.87072978\n",
      " 0.88379584 0.91278677 0.99436211 0.99743488 0.98824331 0.99695397\n",
      " 1.         0.98621258 0.9899266  0.96328709 0.93939953 0.94990047\n",
      " 0.92339443 0.93434952 0.942125   0.9575156  0.9517976  0.94693455\n",
      " 0.93996067 0.93897212 0.96416879 0.95441608 0.95131656 0.95324044\n",
      " 0.97656673 0.98020064 0.93691465 0.92050875 0.92072245 0.90987421\n",
      " 0.89314775 0.8837156  0.88697546 0.84211296 0.84499871 0.83268088\n",
      " 0.84093732 0.85568661 0.76107195 0.74661661 0.78017657 0.80251431\n",
      " 0.84213971 0.85365588 0.8717452  0.82506575 0.81587418 0.82463827\n",
      " 0.82295492 0.75773907 0.75613272 0.75396526 0.75112915 0.74765319\n",
      " 0.74363887 0.73921502 0.7345109  0.72963995 0.72469437 0.71974355\n",
      " 0.71483576 0.7100035  0.70526522 0.70063055 0.6961028  0.69168049\n",
      " 0.68736112 0.68314016 0.67901278 0.67497432]\n",
      "21 day output [[0.6710208]]\n",
      "22 day input [0.8782113  0.88473103 0.86242004 0.83137164 0.90704202 0.8941363\n",
      " 0.8982245  0.9048242  0.89060937 0.89806416 0.89475093 0.89178502\n",
      " 0.88737626 0.87537912 0.88991463 0.89686177 0.87842514 0.87030236\n",
      " 0.8777304  0.87043596 0.89993454 0.88566622 0.88863201 0.86968773\n",
      " 0.87318804 0.89507149 0.88646781 0.86784409 0.87072978 0.88379584\n",
      " 0.91278677 0.99436211 0.99743488 0.98824331 0.99695397 1.\n",
      " 0.98621258 0.9899266  0.96328709 0.93939953 0.94990047 0.92339443\n",
      " 0.93434952 0.942125   0.9575156  0.9517976  0.94693455 0.93996067\n",
      " 0.93897212 0.96416879 0.95441608 0.95131656 0.95324044 0.97656673\n",
      " 0.98020064 0.93691465 0.92050875 0.92072245 0.90987421 0.89314775\n",
      " 0.8837156  0.88697546 0.84211296 0.84499871 0.83268088 0.84093732\n",
      " 0.85568661 0.76107195 0.74661661 0.78017657 0.80251431 0.84213971\n",
      " 0.85365588 0.8717452  0.82506575 0.81587418 0.82463827 0.82295492\n",
      " 0.75773907 0.75613272 0.75396526 0.75112915 0.74765319 0.74363887\n",
      " 0.73921502 0.7345109  0.72963995 0.72469437 0.71974355 0.71483576\n",
      " 0.7100035  0.70526522 0.70063055 0.6961028  0.69168049 0.68736112\n",
      " 0.68314016 0.67901278 0.67497432 0.67102081]\n",
      "22 day output [[0.6671482]]\n",
      "23 day input [0.88473103 0.86242004 0.83137164 0.90704202 0.8941363  0.8982245\n",
      " 0.9048242  0.89060937 0.89806416 0.89475093 0.89178502 0.88737626\n",
      " 0.87537912 0.88991463 0.89686177 0.87842514 0.87030236 0.8777304\n",
      " 0.87043596 0.89993454 0.88566622 0.88863201 0.86968773 0.87318804\n",
      " 0.89507149 0.88646781 0.86784409 0.87072978 0.88379584 0.91278677\n",
      " 0.99436211 0.99743488 0.98824331 0.99695397 1.         0.98621258\n",
      " 0.9899266  0.96328709 0.93939953 0.94990047 0.92339443 0.93434952\n",
      " 0.942125   0.9575156  0.9517976  0.94693455 0.93996067 0.93897212\n",
      " 0.96416879 0.95441608 0.95131656 0.95324044 0.97656673 0.98020064\n",
      " 0.93691465 0.92050875 0.92072245 0.90987421 0.89314775 0.8837156\n",
      " 0.88697546 0.84211296 0.84499871 0.83268088 0.84093732 0.85568661\n",
      " 0.76107195 0.74661661 0.78017657 0.80251431 0.84213971 0.85365588\n",
      " 0.8717452  0.82506575 0.81587418 0.82463827 0.82295492 0.75773907\n",
      " 0.75613272 0.75396526 0.75112915 0.74765319 0.74363887 0.73921502\n",
      " 0.7345109  0.72963995 0.72469437 0.71974355 0.71483576 0.7100035\n",
      " 0.70526522 0.70063055 0.6961028  0.69168049 0.68736112 0.68314016\n"
     ]
    },
    {
     "name": "stdout",
     "output_type": "stream",
     "text": [
      " 0.67901278 0.67497432 0.67102081 0.66714817]\n",
      "23 day output [[0.66335297]]\n",
      "24 day input [0.86242004 0.83137164 0.90704202 0.8941363  0.8982245  0.9048242\n",
      " 0.89060937 0.89806416 0.89475093 0.89178502 0.88737626 0.87537912\n",
      " 0.88991463 0.89686177 0.87842514 0.87030236 0.8777304  0.87043596\n",
      " 0.89993454 0.88566622 0.88863201 0.86968773 0.87318804 0.89507149\n",
      " 0.88646781 0.86784409 0.87072978 0.88379584 0.91278677 0.99436211\n",
      " 0.99743488 0.98824331 0.99695397 1.         0.98621258 0.9899266\n",
      " 0.96328709 0.93939953 0.94990047 0.92339443 0.93434952 0.942125\n",
      " 0.9575156  0.9517976  0.94693455 0.93996067 0.93897212 0.96416879\n",
      " 0.95441608 0.95131656 0.95324044 0.97656673 0.98020064 0.93691465\n",
      " 0.92050875 0.92072245 0.90987421 0.89314775 0.8837156  0.88697546\n",
      " 0.84211296 0.84499871 0.83268088 0.84093732 0.85568661 0.76107195\n",
      " 0.74661661 0.78017657 0.80251431 0.84213971 0.85365588 0.8717452\n",
      " 0.82506575 0.81587418 0.82463827 0.82295492 0.75773907 0.75613272\n",
      " 0.75396526 0.75112915 0.74765319 0.74363887 0.73921502 0.7345109\n",
      " 0.72963995 0.72469437 0.71974355 0.71483576 0.7100035  0.70526522\n",
      " 0.70063055 0.6961028  0.69168049 0.68736112 0.68314016 0.67901278\n",
      " 0.67497432 0.67102081 0.66714817 0.66335297]\n",
      "24 day output [[0.65963215]]\n",
      "25 day input [0.83137164 0.90704202 0.8941363  0.8982245  0.9048242  0.89060937\n",
      " 0.89806416 0.89475093 0.89178502 0.88737626 0.87537912 0.88991463\n",
      " 0.89686177 0.87842514 0.87030236 0.8777304  0.87043596 0.89993454\n",
      " 0.88566622 0.88863201 0.86968773 0.87318804 0.89507149 0.88646781\n",
      " 0.86784409 0.87072978 0.88379584 0.91278677 0.99436211 0.99743488\n",
      " 0.98824331 0.99695397 1.         0.98621258 0.9899266  0.96328709\n",
      " 0.93939953 0.94990047 0.92339443 0.93434952 0.942125   0.9575156\n",
      " 0.9517976  0.94693455 0.93996067 0.93897212 0.96416879 0.95441608\n",
      " 0.95131656 0.95324044 0.97656673 0.98020064 0.93691465 0.92050875\n",
      " 0.92072245 0.90987421 0.89314775 0.8837156  0.88697546 0.84211296\n",
      " 0.84499871 0.83268088 0.84093732 0.85568661 0.76107195 0.74661661\n",
      " 0.78017657 0.80251431 0.84213971 0.85365588 0.8717452  0.82506575\n",
      " 0.81587418 0.82463827 0.82295492 0.75773907 0.75613272 0.75396526\n",
      " 0.75112915 0.74765319 0.74363887 0.73921502 0.7345109  0.72963995\n",
      " 0.72469437 0.71974355 0.71483576 0.7100035  0.70526522 0.70063055\n",
      " 0.6961028  0.69168049 0.68736112 0.68314016 0.67901278 0.67497432\n",
      " 0.67102081 0.66714817 0.66335297 0.65963215]\n",
      "25 day output [[0.65598303]]\n",
      "26 day input [0.90704202 0.8941363  0.8982245  0.9048242  0.89060937 0.89806416\n",
      " 0.89475093 0.89178502 0.88737626 0.87537912 0.88991463 0.89686177\n",
      " 0.87842514 0.87030236 0.8777304  0.87043596 0.89993454 0.88566622\n",
      " 0.88863201 0.86968773 0.87318804 0.89507149 0.88646781 0.86784409\n",
      " 0.87072978 0.88379584 0.91278677 0.99436211 0.99743488 0.98824331\n",
      " 0.99695397 1.         0.98621258 0.9899266  0.96328709 0.93939953\n",
      " 0.94990047 0.92339443 0.93434952 0.942125   0.9575156  0.9517976\n",
      " 0.94693455 0.93996067 0.93897212 0.96416879 0.95441608 0.95131656\n",
      " 0.95324044 0.97656673 0.98020064 0.93691465 0.92050875 0.92072245\n",
      " 0.90987421 0.89314775 0.8837156  0.88697546 0.84211296 0.84499871\n",
      " 0.83268088 0.84093732 0.85568661 0.76107195 0.74661661 0.78017657\n",
      " 0.80251431 0.84213971 0.85365588 0.8717452  0.82506575 0.81587418\n",
      " 0.82463827 0.82295492 0.75773907 0.75613272 0.75396526 0.75112915\n",
      " 0.74765319 0.74363887 0.73921502 0.7345109  0.72963995 0.72469437\n",
      " 0.71974355 0.71483576 0.7100035  0.70526522 0.70063055 0.6961028\n",
      " 0.69168049 0.68736112 0.68314016 0.67901278 0.67497432 0.67102081\n",
      " 0.66714817 0.66335297 0.65963215 0.65598303]\n",
      "26 day output [[0.65240264]]\n",
      "27 day input [0.8941363  0.8982245  0.9048242  0.89060937 0.89806416 0.89475093\n",
      " 0.89178502 0.88737626 0.87537912 0.88991463 0.89686177 0.87842514\n",
      " 0.87030236 0.8777304  0.87043596 0.89993454 0.88566622 0.88863201\n",
      " 0.86968773 0.87318804 0.89507149 0.88646781 0.86784409 0.87072978\n",
      " 0.88379584 0.91278677 0.99436211 0.99743488 0.98824331 0.99695397\n",
      " 1.         0.98621258 0.9899266  0.96328709 0.93939953 0.94990047\n",
      " 0.92339443 0.93434952 0.942125   0.9575156  0.9517976  0.94693455\n",
      " 0.93996067 0.93897212 0.96416879 0.95441608 0.95131656 0.95324044\n",
      " 0.97656673 0.98020064 0.93691465 0.92050875 0.92072245 0.90987421\n",
      " 0.89314775 0.8837156  0.88697546 0.84211296 0.84499871 0.83268088\n",
      " 0.84093732 0.85568661 0.76107195 0.74661661 0.78017657 0.80251431\n",
      " 0.84213971 0.85365588 0.8717452  0.82506575 0.81587418 0.82463827\n",
      " 0.82295492 0.75773907 0.75613272 0.75396526 0.75112915 0.74765319\n",
      " 0.74363887 0.73921502 0.7345109  0.72963995 0.72469437 0.71974355\n",
      " 0.71483576 0.7100035  0.70526522 0.70063055 0.6961028  0.69168049\n",
      " 0.68736112 0.68314016 0.67901278 0.67497432 0.67102081 0.66714817\n",
      " 0.66335297 0.65963215 0.65598303 0.65240264]\n",
      "27 day output [[0.6488895]]\n",
      "28 day input [0.8982245  0.9048242  0.89060937 0.89806416 0.89475093 0.89178502\n",
      " 0.88737626 0.87537912 0.88991463 0.89686177 0.87842514 0.87030236\n",
      " 0.8777304  0.87043596 0.89993454 0.88566622 0.88863201 0.86968773\n",
      " 0.87318804 0.89507149 0.88646781 0.86784409 0.87072978 0.88379584\n",
      " 0.91278677 0.99436211 0.99743488 0.98824331 0.99695397 1.\n",
      " 0.98621258 0.9899266  0.96328709 0.93939953 0.94990047 0.92339443\n",
      " 0.93434952 0.942125   0.9575156  0.9517976  0.94693455 0.93996067\n",
      " 0.93897212 0.96416879 0.95441608 0.95131656 0.95324044 0.97656673\n",
      " 0.98020064 0.93691465 0.92050875 0.92072245 0.90987421 0.89314775\n",
      " 0.8837156  0.88697546 0.84211296 0.84499871 0.83268088 0.84093732\n",
      " 0.85568661 0.76107195 0.74661661 0.78017657 0.80251431 0.84213971\n",
      " 0.85365588 0.8717452  0.82506575 0.81587418 0.82463827 0.82295492\n",
      " 0.75773907 0.75613272 0.75396526 0.75112915 0.74765319 0.74363887\n",
      " 0.73921502 0.7345109  0.72963995 0.72469437 0.71974355 0.71483576\n",
      " 0.7100035  0.70526522 0.70063055 0.6961028  0.69168049 0.68736112\n",
      " 0.68314016 0.67901278 0.67497432 0.67102081 0.66714817 0.66335297\n",
      " 0.65963215 0.65598303 0.65240264 0.64888948]\n",
      "28 day output [[0.6454406]]\n",
      "29 day input [0.9048242  0.89060937 0.89806416 0.89475093 0.89178502 0.88737626\n",
      " 0.87537912 0.88991463 0.89686177 0.87842514 0.87030236 0.8777304\n",
      " 0.87043596 0.89993454 0.88566622 0.88863201 0.86968773 0.87318804\n",
      " 0.89507149 0.88646781 0.86784409 0.87072978 0.88379584 0.91278677\n",
      " 0.99436211 0.99743488 0.98824331 0.99695397 1.         0.98621258\n",
      " 0.9899266  0.96328709 0.93939953 0.94990047 0.92339443 0.93434952\n",
      " 0.942125   0.9575156  0.9517976  0.94693455 0.93996067 0.93897212\n",
      " 0.96416879 0.95441608 0.95131656 0.95324044 0.97656673 0.98020064\n",
      " 0.93691465 0.92050875 0.92072245 0.90987421 0.89314775 0.8837156\n",
      " 0.88697546 0.84211296 0.84499871 0.83268088 0.84093732 0.85568661\n",
      " 0.76107195 0.74661661 0.78017657 0.80251431 0.84213971 0.85365588\n",
      " 0.8717452  0.82506575 0.81587418 0.82463827 0.82295492 0.75773907\n",
      " 0.75613272 0.75396526 0.75112915 0.74765319 0.74363887 0.73921502\n",
      " 0.7345109  0.72963995 0.72469437 0.71974355 0.71483576 0.7100035\n",
      " 0.70526522 0.70063055 0.6961028  0.69168049 0.68736112 0.68314016\n",
      " 0.67901278 0.67497432 0.67102081 0.66714817 0.66335297 0.65963215\n",
      " 0.65598303 0.65240264 0.64888948 0.64544058]\n",
      "29 day output [[0.64205426]]\n",
      "[[0.7577390670776367], [0.7561327219009399], [0.7539652585983276], [0.751129150390625], [0.7476531863212585], [0.7436388731002808], [0.7392150163650513], [0.7345108985900879], [0.7296399474143982], [0.7246943712234497], [0.719743549823761], [0.7148357629776001], [0.7100034952163696], [0.70526522397995], [0.7006305456161499], [0.6961027979850769], [0.6916804909706116], [0.6873611211776733], [0.6831401586532593], [0.6790127754211426], [0.6749743223190308], [0.6710208058357239], [0.6671481728553772], [0.6633529663085938], [0.65963214635849], [0.655983030796051], [0.6524026393890381], [0.6488894820213318], [0.6454405784606934], [0.6420542597770691]]\n"
     ]
    }
   ],
   "source": [
    "lst_output=[]\n",
    "n_steps=100\n",
    "nextNumberOfDays = 30\n",
    "i=0\n",
    "\n",
    "while(i<nextNumberOfDays):\n",
    "    \n",
    "    if(len(temp_input)>100):\n",
    "        x_input=np.array(temp_input[1:])\n",
    "        print(\"{} day input {}\".format(i,x_input))\n",
    "        x_input=x_input.reshape(1,-1)\n",
    "        x_input = x_input.reshape((1, n_steps, 1))\n",
    "        yhat = model.predict(x_input, verbose=0)\n",
    "        print(\"{} day output {}\".format(i,yhat))\n",
    "        temp_input.extend(yhat[0].tolist())\n",
    "        temp_input=temp_input[1:]\n",
    "        lst_output.extend(yhat.tolist())\n",
    "        i=i+1\n",
    "    else:\n",
    "        x_input = x_input.reshape((1, n_steps,1))\n",
    "        yhat = model.predict(x_input, verbose=0)\n",
    "        print(yhat[0])\n",
    "        temp_input.extend(yhat[0].tolist())\n",
    "        print(len(temp_input))\n",
    "        lst_output.extend(yhat.tolist())\n",
    "        i=i+1\n",
    "    \n",
    "\n",
    "print(lst_output)"
   ]
  },
  {
   "cell_type": "code",
   "execution_count": 27,
   "metadata": {},
   "outputs": [],
   "source": [
    "day_new = np.arange(1,101)\n",
    "day_pred = np.arange(101,131)"
   ]
  },
  {
   "cell_type": "code",
   "execution_count": 28,
   "metadata": {},
   "outputs": [],
   "source": [
    "df3 = df_close.tolist()\n",
    "df3.extend(lst_output)"
   ]
  },
  {
   "cell_type": "code",
   "execution_count": 29,
   "metadata": {},
   "outputs": [
    {
     "data": {
      "text/plain": [
       "1232"
      ]
     },
     "execution_count": 29,
     "metadata": {},
     "output_type": "execute_result"
    }
   ],
   "source": [
    "len(df_close)"
   ]
  },
  {
   "cell_type": "code",
   "execution_count": 42,
   "metadata": {},
   "outputs": [],
   "source": [
    "plt.plot(day_new, scaler.inverse_transform(df_close[1:1111]))\n",
    "plt.plot(day_pred, scaler.inverse_transform(lst_output))"
   ]
  },
  {
   "cell_type": "code",
   "execution_count": null,
   "metadata": {},
   "outputs": [],
   "source": []
  }
 ],
 "metadata": {
  "kernelspec": {
   "display_name": "Python 3 (ipykernel)",
   "language": "python",
   "name": "python3"
  },
  "language_info": {
   "codemirror_mode": {
    "name": "ipython",
    "version": 3
   },
   "file_extension": ".py",
   "mimetype": "text/x-python",
   "name": "python",
   "nbconvert_exporter": "python",
   "pygments_lexer": "ipython3",
   "version": "3.9.12"
  }
 },
 "nbformat": 4,
 "nbformat_minor": 2
}
